{
 "cells": [
  {
   "cell_type": "markdown",
   "id": "582fd51e",
   "metadata": {},
   "source": [
    "# Lab 2: numpy\n",
    "\n",
    "#### Practice Exercise 1\n",
    "\n",
    "Create the following NumPy arrays: \n",
    "1. A 1-D array called zeros having 10 elements and all the elements are set to zero. \n",
    "2. A 1-D array called vowels having the elements ‘a’, ‘e’, ‘i’, ‘o’ and ‘u’. \n",
    "3. A 2-D array called ones having 2 rows and 5 columns and all the elements are set to 1 and dtype as int. \n",
    "4. Use nested Python lists to create a 2-D array called myarray1 having 3 rows and 3 columns and store the following data: 2.7,  0,  -2,  3.4,  10.6,  0,  -19 99.9 13 \n",
    "5. A 2-D array called myarray2 using arange() having 3 rows and 5 columns with start value = 4, step size 4 and dtype as float\n"
   ]
  },
  {
   "cell_type": "code",
   "execution_count": 12,
   "id": "9195d139",
   "metadata": {},
   "outputs": [
    {
     "data": {
      "text/plain": [
       "array([0, 0, 0, 0, 0, 0, 0, 0, 0, 0])"
      ]
     },
     "execution_count": 12,
     "metadata": {},
     "output_type": "execute_result"
    }
   ],
   "source": [
    "# Write your answer here\n",
    "import numpy as np\n",
    "#1)\n",
    "\n",
    "#zeros = np.array([0,0,0,0,0,0,0,0,0,0])\n",
    "#or\n",
    "zeros = np.zeros(10,dtype = int)\n",
    "zeros.dtype    #returns data type of the array\n",
    "zeros.shape    #returns the shape of the array\n",
    "zeros.ndim    #returns array dimentions\n",
    "zeros"
   ]
  },
  {
   "cell_type": "code",
   "execution_count": 14,
   "id": "b14a9d52-20c2-42d4-a7f4-c4911e23cbc8",
   "metadata": {},
   "outputs": [
    {
     "data": {
      "text/plain": [
       "array(['a', 'o', 'i', 'u', 'e'], dtype='<U1')"
      ]
     },
     "execution_count": 14,
     "metadata": {},
     "output_type": "execute_result"
    }
   ],
   "source": [
    "#2)\n",
    "vowels = np.array(['a','o','i','u','e'])\n",
    "vowels.dtype\n",
    "vowels"
   ]
  },
  {
   "cell_type": "code",
   "execution_count": 10,
   "id": "9a419c35-0b13-49eb-9e3d-ce6549b2b3f7",
   "metadata": {},
   "outputs": [
    {
     "data": {
      "text/plain": [
       "array([[1, 1, 1, 1, 1],\n",
       "       [1, 1, 1, 1, 1]])"
      ]
     },
     "execution_count": 10,
     "metadata": {},
     "output_type": "execute_result"
    }
   ],
   "source": [
    "#3)\n",
    "#ones = np.array([1,1,1,1,1],[1,1,1,1,1])\n",
    "# or\n",
    "ones = np.ones(10, dtype = int).reshape(2,5)    #reshaping it into 2 rows and 5 columns\n",
    "ones"
   ]
  },
  {
   "cell_type": "code",
   "execution_count": 20,
   "id": "008f9438-407c-42e9-89f8-32fab60dde78",
   "metadata": {},
   "outputs": [
    {
     "data": {
      "text/plain": [
       "array([[  2.7,   0. ,  -2. ],\n",
       "       [  3.4,  10.6,   0. ],\n",
       "       [-19. ,  99.9,  13. ]])"
      ]
     },
     "execution_count": 20,
     "metadata": {},
     "output_type": "execute_result"
    }
   ],
   "source": [
    "#4)\n",
    "# question spesified nested list. but this also works:\n",
    "#myarray1 = np.array([[2.7,0,-2],[3.4,10.6,0],[-19,99.9,13]])\n",
    "# OR\n",
    "myarray1 = np.array([2.7, 0, -2, 3.4, 10.6, 0, -19, 99.9, 13]).reshape(3,3)\n",
    "myarray1.ndim\n",
    "myarray1"
   ]
  },
  {
   "cell_type": "code",
   "execution_count": 22,
   "id": "c76e7557-795c-4d5b-9812-493731afd59d",
   "metadata": {},
   "outputs": [
    {
     "data": {
      "text/plain": [
       "array([[ 4.,  8., 12., 16., 20.],\n",
       "       [24., 28., 32., 36., 40.],\n",
       "       [44., 48., 52., 56., 60.]])"
      ]
     },
     "execution_count": 22,
     "metadata": {},
     "output_type": "execute_result"
    }
   ],
   "source": [
    "#5)\n",
    "myarray2 = np.arange(4, 4+ 15*4, 4, dtype=float).reshape(3,5)\n",
    "myarray2"
   ]
  },
  {
   "cell_type": "markdown",
   "id": "2d3fc3a8",
   "metadata": {},
   "source": [
    "Using the arrays created in Question above, write NumPy commands for the following: \n",
    "1. Find the dimensions, shape, size, data type of the items and itemsize of arrays zeros, vowels, ones, myarray1 and myarray2. \n",
    "2. Reshape the array ones to have all the 10 elements in a single row. \n",
    "3. Display the 2nd and 3rd element of the array vowels. \n",
    "4. Display all elements in the 2nd and 3rd row of the array myarray1. \n",
    "5. Display the elements in the 1st and 2nd column of the array myarray1. \n",
    "6. Display the elements in the 1st column of the 2nd and 3rd row of the array myarray1. \n",
    "7. Reverse the array of vowels."
   ]
  },
  {
   "cell_type": "code",
   "execution_count": 34,
   "id": "1f92aa7a-3e36-4293-a92c-ebb02d340978",
   "metadata": {},
   "outputs": [
    {
     "data": {
      "text/plain": [
       "(2, 15, dtype('float64'), (3, 5))"
      ]
     },
     "execution_count": 34,
     "metadata": {},
     "output_type": "execute_result"
    }
   ],
   "source": [
    "#Write your answer here\n",
    "q1 = myarray2.ndim, myarray2.size, myarray2.dtype, myarray2.shape\n",
    "# , myarray2.itemtype\n",
    "q1"
   ]
  },
  {
   "cell_type": "code",
   "execution_count": 32,
   "id": "8e4ec95e-24d4-4e15-b898-facb88fc7415",
   "metadata": {},
   "outputs": [
    {
     "data": {
      "text/plain": [
       "array([[1, 1, 1, 1, 1, 1, 1, 1, 1, 1]])"
      ]
     },
     "execution_count": 32,
     "metadata": {},
     "output_type": "execute_result"
    }
   ],
   "source": [
    "q2 = ones = ones.reshape(1,10)\n",
    "ones"
   ]
  },
  {
   "cell_type": "code",
   "execution_count": 26,
   "id": "093a864e-27b3-49dd-bd29-8f8ef33705be",
   "metadata": {},
   "outputs": [
    {
     "data": {
      "text/plain": [
       "array(['o', 'i'], dtype='<U1')"
      ]
     },
     "execution_count": 26,
     "metadata": {},
     "output_type": "execute_result"
    }
   ],
   "source": [
    "q3 = vowels[1:3] # displays elemnts from index 1-3 (3 doesnt count)\n",
    "q3"
   ]
  },
  {
   "cell_type": "code",
   "execution_count": null,
   "id": "787de9cc-7c1a-4e38-8883-8ed474da1501",
   "metadata": {},
   "outputs": [],
   "source": [
    "q4 = myarray1[1:3, ]"
   ]
  },
  {
   "cell_type": "code",
   "execution_count": null,
   "id": "2b8c2c58-405e-4e5e-9d03-c56d4032aab2",
   "metadata": {},
   "outputs": [],
   "source": [
    "q5 ="
   ]
  },
  {
   "cell_type": "code",
   "execution_count": null,
   "id": "582e2982-2707-461f-beb5-1102b80f2a2d",
   "metadata": {},
   "outputs": [],
   "source": [
    "q6 =\n",
    "#myarray1[1:3]"
   ]
  },
  {
   "cell_type": "markdown",
   "id": "e1edb3bb",
   "metadata": {},
   "source": [
    "Using the arrays created in Question above, write NumPy commands for the following:\n",
    "1. Divide all elements of array ones by 3. \n",
    "2. Add the arrays myarray1 and myarray2. \n",
    "3. Subtract myarray1 from myarray2 and store the result in a new array. \n",
    "4. Multiply myarray1 and myarray2 elementwise. \n",
    "5. Do the matrix multiplication of myarray1 and myarray2 and store the result in a new array myarray3. \n",
    "6. Divide myarray1 by myarray2. \n",
    "7. Find the cube of all elements of myarray1 and divide the resulting array by 2. \n",
    "8. Find the square root of all elements of myarray2   and divide the resulting array by 2. The result  should be rounded to two places of decimals."
   ]
  },
  {
   "cell_type": "code",
   "execution_count": null,
   "id": "1263c670-3947-4919-b94f-1bd233505c0e",
   "metadata": {},
   "outputs": [],
   "source": [
    "# Write your answer here\n",
    "q1 = ones/3"
   ]
  },
  {
   "cell_type": "code",
   "execution_count": 42,
   "id": "92afe8cb-cd87-4d10-b3e4-646e0fdae8ec",
   "metadata": {},
   "outputs": [
    {
     "data": {
      "text/plain": [
       "array([[  6.7,   8. ,  10. ],\n",
       "       [ 27.4,  38.6,  32. ],\n",
       "       [ 25. , 147.9,  65. ]])"
      ]
     },
     "execution_count": 42,
     "metadata": {},
     "output_type": "execute_result"
    }
   ],
   "source": [
    "q2 = myarray2[: ,:3] + myarray1\n",
    "q2"
   ]
  },
  {
   "cell_type": "code",
   "execution_count": 40,
   "id": "e2ce2f4b-3cd6-4526-a60b-0cf3ee31795a",
   "metadata": {},
   "outputs": [
    {
     "data": {
      "text/plain": [
       "array([[ 9.841500e+00,  0.000000e+00, -4.000000e+00],\n",
       "       [ 1.965200e+01,  5.955080e+02,  0.000000e+00],\n",
       "       [-3.429500e+03,  4.985015e+05,  1.098500e+03]])"
      ]
     },
     "execution_count": 40,
     "metadata": {},
     "output_type": "execute_result"
    }
   ],
   "source": [
    "q7 = (myarray1** 3)/2\n",
    "q7"
   ]
  },
  {
   "cell_type": "code",
   "execution_count": 38,
   "id": "b15249de-1477-4715-aada-ca34abd822c7",
   "metadata": {},
   "outputs": [
    {
     "data": {
      "text/plain": [
       "array([[1.  , 1.41, 1.73, 2.  , 2.24],\n",
       "       [2.45, 2.65, 2.83, 3.  , 3.16],\n",
       "       [3.32, 3.46, 3.61, 3.74, 3.87]])"
      ]
     },
     "execution_count": 38,
     "metadata": {},
     "output_type": "execute_result"
    }
   ],
   "source": [
    "q8 = np.round(np.sqrt(myarray2)/2,2)    #numpy has all numerical functions\n",
    "q8"
   ]
  },
  {
   "cell_type": "markdown",
   "id": "d8aafc74",
   "metadata": {},
   "source": [
    "Using the arrays created above, write NumPy commands for the following: \n",
    "1. Find the transpose of ones and myarray2. \n",
    "2. Sort the array vowels in reverse. \n",
    "3. Sort the array myarray1 such that it brings the lowest value of the column in the first row and so on."
   ]
  },
  {
   "cell_type": "code",
   "execution_count": 4,
   "id": "573c6506",
   "metadata": {},
   "outputs": [],
   "source": [
    "# Write your answer here\n",
    "np.transpose(myarray2)  # myarray2.T \n",
    "np.sort(myarray1)  \n",
    "np.sort(myarray1, 0) #(to sort by column)"
   ]
  },
  {
   "cell_type": "markdown",
   "id": "93546856",
   "metadata": {},
   "source": [
    "Create a 2-D array called myarray4 using arange() having 14 rows and 3 columns with start value = -1, step size 0.25 having. Split this array row wise into 3 equal parts and print the result. "
   ]
  },
  {
   "cell_type": "code",
   "execution_count": 44,
   "id": "441dd934",
   "metadata": {},
   "outputs": [
    {
     "data": {
      "text/plain": [
       "[array([[-1.  , -0.75, -0.5 ],\n",
       "        [-0.25,  0.  ,  0.25],\n",
       "        [ 0.5 ,  0.75,  1.  ],\n",
       "        [ 1.25,  1.5 ,  1.75],\n",
       "        [ 2.  ,  2.25,  2.5 ]]),\n",
       " array([[2.75, 3.  , 3.25],\n",
       "        [3.5 , 3.75, 4.  ],\n",
       "        [4.25, 4.5 , 4.75],\n",
       "        [5.  , 5.25, 5.5 ],\n",
       "        [5.75, 6.  , 6.25]]),\n",
       " array([[6.5 , 6.75, 7.  ],\n",
       "        [7.25, 7.5 , 7.75],\n",
       "        [8.  , 8.25, 8.5 ],\n",
       "        [8.75, 9.  , 9.25]])]"
      ]
     },
     "execution_count": 44,
     "metadata": {},
     "output_type": "execute_result"
    }
   ],
   "source": [
    "# Write your answer here\n",
    "myarray4 = np.arange(-1,-1 + 0.25*42, 0.25).reshape(14,3)\n",
    "np.array_split(myarray4,3)\n",
    "# syntax: np.arange(1st element, 1st element + step size * array size, stepsize)"
   ]
  },
  {
   "cell_type": "markdown",
   "id": "c8cdbaff",
   "metadata": {},
   "source": [
    "Using the myarray4 created in the above questions, write commands for the following: \n",
    "1. Find the sum of all elements. \n",
    "2. Find the sum of all elements row wise\n",
    "3. Find the sum of all elements column wise. \n",
    "4. Find the max of all elements. \n",
    "5. Find the min of all elements in each row. \n",
    "6. Find the mean of all elements in each row. \n",
    "7. Find the standard deviation column wise."
   ]
  },
  {
   "cell_type": "code",
   "execution_count": 46,
   "id": "66af8b55",
   "metadata": {},
   "outputs": [
    {
     "data": {
      "text/plain": [
       "173.25"
      ]
     },
     "execution_count": 46,
     "metadata": {},
     "output_type": "execute_result"
    }
   ],
   "source": [
    "# Write your ansewr here\n",
    "np.sum(myarray4)"
   ]
  },
  {
   "cell_type": "markdown",
   "id": "8d7e1dca",
   "metadata": {},
   "source": [
    "#### Practice Exercise 2\n",
    "Read the coordinates of the capital cities of the world from the country-capital-lat-long-population.csv file. Use NumPy to print the name and coordinates of the capital city closest to the Saudi Arabia capital - Riyadh.\n",
    "\n",
    "Note that:\n",
    "\n",
    "1. The Country Name for Saudi Arabia is given as Saudi Arabia in the data.\n",
    "2. The ‘closeness’ of capital cities from the Saudi Arabia capital is based on the Euclidean distance of their coordinates to those of the Saudi Arabia capital.\n",
    "\n",
    "\n",
    "Hints:\n",
    "\n",
    "1. Use read_html() from the Pandas library to read the table.\n",
    "2. Use the to_numpy() function of the Pandas DataFrame class to convert a DataFrame to a Numpy array\n",
    "3. Use broadcasting to compute the euclidean distance of capital cities from Riyadh."
   ]
  },
  {
   "cell_type": "code",
   "execution_count": 2,
   "id": "ab6b9725",
   "metadata": {},
   "outputs": [
    {
     "data": {
      "text/html": [
       "<div>\n",
       "<style scoped>\n",
       "    .dataframe tbody tr th:only-of-type {\n",
       "        vertical-align: middle;\n",
       "    }\n",
       "\n",
       "    .dataframe tbody tr th {\n",
       "        vertical-align: top;\n",
       "    }\n",
       "\n",
       "    .dataframe thead th {\n",
       "        text-align: right;\n",
       "    }\n",
       "</style>\n",
       "<table border=\"1\" class=\"dataframe\">\n",
       "  <thead>\n",
       "    <tr style=\"text-align: right;\">\n",
       "      <th></th>\n",
       "      <th>Country</th>\n",
       "      <th>Capital City</th>\n",
       "      <th>Latitude</th>\n",
       "      <th>Longitude</th>\n",
       "      <th>Population</th>\n",
       "      <th>Capital Type</th>\n",
       "    </tr>\n",
       "  </thead>\n",
       "  <tbody>\n",
       "    <tr>\n",
       "      <th>0</th>\n",
       "      <td>Afghanistan</td>\n",
       "      <td>Kabul</td>\n",
       "      <td>34.5289</td>\n",
       "      <td>69.1725</td>\n",
       "      <td>4011770</td>\n",
       "      <td>Capital</td>\n",
       "    </tr>\n",
       "    <tr>\n",
       "      <th>1</th>\n",
       "      <td>Albania</td>\n",
       "      <td>Tiranë (Tirana)</td>\n",
       "      <td>41.3275</td>\n",
       "      <td>19.8189</td>\n",
       "      <td>475577</td>\n",
       "      <td>Capital</td>\n",
       "    </tr>\n",
       "    <tr>\n",
       "      <th>2</th>\n",
       "      <td>Algeria</td>\n",
       "      <td>El Djazaïr  (Algiers)</td>\n",
       "      <td>36.7525</td>\n",
       "      <td>3.0420</td>\n",
       "      <td>2693542</td>\n",
       "      <td>Capital</td>\n",
       "    </tr>\n",
       "    <tr>\n",
       "      <th>3</th>\n",
       "      <td>American Samoa</td>\n",
       "      <td>Pago Pago</td>\n",
       "      <td>-14.2781</td>\n",
       "      <td>-170.7025</td>\n",
       "      <td>48526</td>\n",
       "      <td>Capital</td>\n",
       "    </tr>\n",
       "    <tr>\n",
       "      <th>4</th>\n",
       "      <td>Andorra</td>\n",
       "      <td>Andorra la Vella</td>\n",
       "      <td>42.5078</td>\n",
       "      <td>1.5211</td>\n",
       "      <td>22614</td>\n",
       "      <td>Capital</td>\n",
       "    </tr>\n",
       "  </tbody>\n",
       "</table>\n",
       "</div>"
      ],
      "text/plain": [
       "          Country           Capital City  Latitude  Longitude  Population  \\\n",
       "0     Afghanistan                  Kabul   34.5289    69.1725     4011770   \n",
       "1         Albania        Tiranë (Tirana)   41.3275    19.8189      475577   \n",
       "2         Algeria  El Djazaïr  (Algiers)   36.7525     3.0420     2693542   \n",
       "3  American Samoa              Pago Pago  -14.2781  -170.7025       48526   \n",
       "4         Andorra       Andorra la Vella   42.5078     1.5211       22614   \n",
       "\n",
       "  Capital Type  \n",
       "0      Capital  \n",
       "1      Capital  \n",
       "2      Capital  \n",
       "3      Capital  \n",
       "4      Capital  "
      ]
     },
     "execution_count": 2,
     "metadata": {},
     "output_type": "execute_result"
    }
   ],
   "source": [
    "# Write your answer here\n",
    "import pandas as pd\n",
    "capitals = pd.read_csv('country-capital-lat-long-population.csv')\n",
    "capitals.head()\n"
   ]
  },
  {
   "cell_type": "markdown",
   "id": "1fdbec05",
   "metadata": {},
   "source": [
    "#### Practical Exercise 2\n",
    "\n",
    "Use NumPy to:\n",
    "\n",
    "1. Print the names of the countries of the top 10 capital cities closest to the US capital - Washington DC.\n",
    "\n",
    "2. Create and print a NumPy array containing the coordinates of the top 10 cities."
   ]
  },
  {
   "cell_type": "code",
   "execution_count": 12,
   "id": "45046a85",
   "metadata": {},
   "outputs": [],
   "source": [
    "# Write your answer here\n",
    "\n"
   ]
  }
 ],
 "metadata": {
  "kernelspec": {
   "display_name": "Python 3 (ipykernel)",
   "language": "python",
   "name": "python3"
  },
  "language_info": {
   "codemirror_mode": {
    "name": "ipython",
    "version": 3
   },
   "file_extension": ".py",
   "mimetype": "text/x-python",
   "name": "python",
   "nbconvert_exporter": "python",
   "pygments_lexer": "ipython3",
   "version": "3.12.4"
  }
 },
 "nbformat": 4,
 "nbformat_minor": 5
}
